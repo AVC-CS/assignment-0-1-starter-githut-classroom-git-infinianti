{
 "cells": [
  {
   "cell_type": "code",
   "execution_count": 68,
   "metadata": {},
   "outputs": [],
   "source": [
    "user = {'convo': []}\n",
    "timestamp = []"
   ]
  },
  {
   "cell_type": "code",
   "execution_count": 79,
   "metadata": {},
   "outputs": [
    {
     "name": "stdout",
     "output_type": "stream",
     "text": [
      "5.0\n",
      "[5.0]\n",
      "13.0\n"
     ]
    }
   ],
   "source": [
    "from math import sqrt\n",
    "from time import time, sleep\n",
    "\n",
    "x = [(-5, 1)]\n",
    "y = [(-1, 4)]\n",
    "\n",
    "_x = x[0]\n",
    "_y = y[0]\n",
    "\n",
    "async def pythagorean(x: float, y: float): yield sqrt((x ** 2) + (y ** 2))\n",
    "async for i in pythagorean(_x[0]-_y[0], _x[1]-_y[1]): print(i)\n",
    "\n",
    "async def distance_between_points(xpoints: list[tuple], ypoints: list[tuple]): yield [sqrt(((x[0]-y[0])**2)+((x[1]-y[1])**2)) for x, y in zip(xpoints, ypoints)]\n",
    "async for i in distance_between_points(x, y): print(i)\n",
    "\n",
    "print(sqrt((_x[0]-_y[0])**2)+((_x[1]-_y[1])**2))"
   ]
  },
  {
   "cell_type": "code",
   "execution_count": 94,
   "metadata": {},
   "outputs": [
    {
     "name": "stdout",
     "output_type": "stream",
     "text": [
      "2404.2596055624995\n"
     ]
    }
   ],
   "source": [
    "EARTHS_GRAVITY_CONSTANT = 9.80665 # m/s**2\n",
    "\n",
    "async def gravity(seconds: int):\n",
    "    distance = [0, 0]\n",
    "    for _ in range(seconds):\n",
    "        sleep(1)\n",
    "        distance[0] += EARTHS_GRAVITY_CONSTANT\n",
    "        distance[1] -= EARTHS_GRAVITY_CONSTANT\n",
    "    return distance[0] ** 2, -distance[1] ** 2\n",
    "\n",
    "async def gravity(seconds: int): return (EARTHS_GRAVITY_CONSTANT * seconds) ** 2\n",
    "\n",
    "async def velocity(seconds: int): return 2\n",
    "print(await gravity(5))"
   ]
  },
  {
   "cell_type": "code",
   "execution_count": null,
   "metadata": {},
   "outputs": [],
   "source": []
  },
  {
   "cell_type": "code",
   "execution_count": 2,
   "metadata": {},
   "outputs": [],
   "source": [
    "\n",
    "async def answer(**kwargs):\n",
    "    try:\n",
    "        if kwargs['message']: yield True\n",
    "        else: yield False\n",
    "    except:\n",
    "        print('Something went wrong!')\n",
    "\n",
    "async def first_time_setup(*args):\n",
    "    pass"
   ]
  },
  {
   "cell_type": "code",
   "execution_count": 122,
   "metadata": {},
   "outputs": [],
   "source": [
    "from os import cpu_count\n",
    "from concurrent.futures import ThreadPoolExecutor\n",
    "\n",
    "async def thread_list(func, *args):\n",
    "    with ThreadPoolExecutor(cpu_count()) as executor:\n",
    "        futures = executor.map(func, *args)\n",
    "        for future in futures: yield future"
   ]
  },
  {
   "cell_type": "code",
   "execution_count": 123,
   "metadata": {},
   "outputs": [
    {
     "name": "stdout",
     "output_type": "stream",
     "text": [
      "96.17038422249999\n",
      "384.68153688999996\n",
      "865.5334580025\n",
      "1538.7261475599998\n",
      "2404.2596055624995\n",
      "3462.13383201\n",
      "4712.348826902498\n",
      "6154.904590239999\n",
      "7789.8011220225\n"
     ]
    }
   ],
   "source": [
    "async for i in thread_list(gravity, [1,2,3,4,5,6,7,8,9]):\n",
    "    print(await i)"
   ]
  },
  {
   "cell_type": "code",
   "execution_count": 74,
   "metadata": {},
   "outputs": [
    {
     "name": "stdout",
     "output_type": "stream",
     "text": [
      "I see, . . . I'm not that kind of program.\n",
      "You should try angain later.\n"
     ]
    }
   ],
   "source": [
    "from os import listdir, mkdir\n",
    "from time import time, sleep\n",
    "from json import load, dump\n",
    "\n",
    "delta = time()\n",
    "\n",
    "SAVE = '.save'\n",
    "CONVO = 'convo.json'\n",
    "FCONV = f'./{SAVE}/{CONVO}'\n",
    "\n",
    "if SAVE not in listdir(): mkdir(SAVE)\n",
    "if CONVO not in listdir(SAVE): \n",
    "    with open(FCONV, 'w') as file: dump(user, file)\n",
    "with open(FCONV) as file: user: dict = load(file)\n",
    "\n",
    "timestamp.append(epoch := delta - time())\n",
    "convo: list = user['convo']\n",
    "convo.append(input(f'Welcome!\\n{_}\\nWhat\\'s the purpose of your visit?\\n'))\n",
    "sleep(2.5)\n",
    "\n",
    "timestamp.append(epoch := delta - time())\n",
    "print('I see, . . . I\\'m not that kind of program.\\nYou should try angain later.')\n",
    "sleep(2.5)\n",
    "\n",
    "timestamp.append(epoch := delta - time())\n",
    "\n",
    "convo.append(input('Would you like to continue?'))\n",
    "\n",
    "\n",
    "timestamp.append(epoch := delta - time())\n",
    "with open(FCONV, 'w') as file: curr_session = dump(user, file)\n"
   ]
  },
  {
   "cell_type": "code",
   "execution_count": 41,
   "metadata": {},
   "outputs": [
    {
     "name": "stdout",
     "output_type": "stream",
     "text": [
      "['.git', '.github', '.gitignore', '.ipynb', '.py', '.save', 'example_program.py', 'main.py', 'main_test.py', 'README.md', '__pycache__']\n"
     ]
    }
   ],
   "source": [
    "print(listdir())"
   ]
  }
 ],
 "metadata": {
  "kernelspec": {
   "display_name": "Python 3",
   "language": "python",
   "name": "python3"
  },
  "language_info": {
   "codemirror_mode": {
    "name": "ipython",
    "version": 3
   },
   "file_extension": ".py",
   "mimetype": "text/x-python",
   "name": "python",
   "nbconvert_exporter": "python",
   "pygments_lexer": "ipython3",
   "version": "3.10.11"
  },
  "orig_nbformat": 4
 },
 "nbformat": 4,
 "nbformat_minor": 2
}
